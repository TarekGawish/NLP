{
 "cells": [
  {
   "cell_type": "code",
   "execution_count": 1,
   "id": "dad3038c",
   "metadata": {
    "execution": {
     "iopub.execute_input": "2024-03-12T07:50:49.844518Z",
     "iopub.status.busy": "2024-03-12T07:50:49.844132Z",
     "iopub.status.idle": "2024-03-12T07:50:52.798990Z",
     "shell.execute_reply": "2024-03-12T07:50:52.797540Z"
    },
    "papermill": {
     "duration": 2.963557,
     "end_time": "2024-03-12T07:50:52.801974",
     "exception": false,
     "start_time": "2024-03-12T07:50:49.838417",
     "status": "completed"
    },
    "tags": []
   },
   "outputs": [],
   "source": [
    "import csv\n",
    "from nltk.tokenize import word_tokenize\n",
    "from nltk.stem import PorterStemmer\n",
    "import pandas as pd"
   ]
  },
  {
   "cell_type": "code",
   "execution_count": 2,
   "id": "60f2c4ed",
   "metadata": {
    "execution": {
     "iopub.execute_input": "2024-03-12T07:50:52.812020Z",
     "iopub.status.busy": "2024-03-12T07:50:52.810734Z",
     "iopub.status.idle": "2024-03-12T07:50:52.817036Z",
     "shell.execute_reply": "2024-03-12T07:50:52.816227Z"
    },
    "papermill": {
     "duration": 0.013524,
     "end_time": "2024-03-12T07:50:52.819417",
     "exception": false,
     "start_time": "2024-03-12T07:50:52.805893",
     "status": "completed"
    },
    "tags": []
   },
   "outputs": [],
   "source": [
    "def tokenize_and_stem(text):\n",
    "    tokens = word_tokenize(text.lower())  \n",
    "    stemmer = PorterStemmer()\n",
    "    stemmed_tokens = [stemmer.stem(token) for token in tokens]  \n",
    "    return stemmed_tokens"
   ]
  },
  {
   "cell_type": "code",
   "execution_count": 3,
   "id": "c7feaa01",
   "metadata": {
    "execution": {
     "iopub.execute_input": "2024-03-12T07:50:52.828544Z",
     "iopub.status.busy": "2024-03-12T07:50:52.827832Z",
     "iopub.status.idle": "2024-03-12T07:50:52.832964Z",
     "shell.execute_reply": "2024-03-12T07:50:52.831882Z"
    },
    "papermill": {
     "duration": 0.012565,
     "end_time": "2024-03-12T07:50:52.835492",
     "exception": false,
     "start_time": "2024-03-12T07:50:52.822927",
     "status": "completed"
    },
    "tags": []
   },
   "outputs": [],
   "source": [
    "# def read_csv_file(csv_file):\n",
    "#     with open(csv_file, 'r', encoding='utf-8-sig') as file:\n",
    "#         reader = csv.reader(file)\n",
    "#         next(reader)\n",
    "#         data = [row[0] for row in reader] \n",
    "#     return data"
   ]
  },
  {
   "cell_type": "code",
   "execution_count": 4,
   "id": "963752df",
   "metadata": {
    "execution": {
     "iopub.execute_input": "2024-03-12T07:50:52.844560Z",
     "iopub.status.busy": "2024-03-12T07:50:52.843497Z",
     "iopub.status.idle": "2024-03-12T07:50:53.389924Z",
     "shell.execute_reply": "2024-03-12T07:50:53.388889Z"
    },
    "papermill": {
     "duration": 0.553588,
     "end_time": "2024-03-12T07:50:53.392529",
     "exception": false,
     "start_time": "2024-03-12T07:50:52.838941",
     "status": "completed"
    },
    "tags": []
   },
   "outputs": [
    {
     "data": {
      "text/html": [
       "<div>\n",
       "<style scoped>\n",
       "    .dataframe tbody tr th:only-of-type {\n",
       "        vertical-align: middle;\n",
       "    }\n",
       "\n",
       "    .dataframe tbody tr th {\n",
       "        vertical-align: top;\n",
       "    }\n",
       "\n",
       "    .dataframe thead th {\n",
       "        text-align: right;\n",
       "    }\n",
       "</style>\n",
       "<table border=\"1\" class=\"dataframe\">\n",
       "  <thead>\n",
       "    <tr style=\"text-align: right;\">\n",
       "      <th></th>\n",
       "      <th>UserName</th>\n",
       "      <th>ScreenName</th>\n",
       "      <th>Location</th>\n",
       "      <th>TweetAt</th>\n",
       "      <th>OriginalTweet</th>\n",
       "      <th>Sentiment</th>\n",
       "    </tr>\n",
       "  </thead>\n",
       "  <tbody>\n",
       "    <tr>\n",
       "      <th>0</th>\n",
       "      <td>3799</td>\n",
       "      <td>48751</td>\n",
       "      <td>London</td>\n",
       "      <td>16-03-2020</td>\n",
       "      <td>@MeNyrbie @Phil_Gahan @Chrisitv https://t.co/i...</td>\n",
       "      <td>Neutral</td>\n",
       "    </tr>\n",
       "    <tr>\n",
       "      <th>1</th>\n",
       "      <td>3800</td>\n",
       "      <td>48752</td>\n",
       "      <td>UK</td>\n",
       "      <td>16-03-2020</td>\n",
       "      <td>advice Talk to your neighbours family to excha...</td>\n",
       "      <td>Positive</td>\n",
       "    </tr>\n",
       "    <tr>\n",
       "      <th>2</th>\n",
       "      <td>3801</td>\n",
       "      <td>48753</td>\n",
       "      <td>Vagabonds</td>\n",
       "      <td>16-03-2020</td>\n",
       "      <td>Coronavirus Australia: Woolworths to give elde...</td>\n",
       "      <td>Positive</td>\n",
       "    </tr>\n",
       "    <tr>\n",
       "      <th>3</th>\n",
       "      <td>3802</td>\n",
       "      <td>48754</td>\n",
       "      <td>NaN</td>\n",
       "      <td>16-03-2020</td>\n",
       "      <td>My food stock is not the only one which is emp...</td>\n",
       "      <td>Positive</td>\n",
       "    </tr>\n",
       "    <tr>\n",
       "      <th>4</th>\n",
       "      <td>3803</td>\n",
       "      <td>48755</td>\n",
       "      <td>NaN</td>\n",
       "      <td>16-03-2020</td>\n",
       "      <td>Me, ready to go at supermarket during the #COV...</td>\n",
       "      <td>Extremely Negative</td>\n",
       "    </tr>\n",
       "  </tbody>\n",
       "</table>\n",
       "</div>"
      ],
      "text/plain": [
       "   UserName  ScreenName   Location     TweetAt  \\\n",
       "0      3799       48751     London  16-03-2020   \n",
       "1      3800       48752         UK  16-03-2020   \n",
       "2      3801       48753  Vagabonds  16-03-2020   \n",
       "3      3802       48754        NaN  16-03-2020   \n",
       "4      3803       48755        NaN  16-03-2020   \n",
       "\n",
       "                                       OriginalTweet           Sentiment  \n",
       "0  @MeNyrbie @Phil_Gahan @Chrisitv https://t.co/i...             Neutral  \n",
       "1  advice Talk to your neighbours family to excha...            Positive  \n",
       "2  Coronavirus Australia: Woolworths to give elde...            Positive  \n",
       "3  My food stock is not the only one which is emp...            Positive  \n",
       "4  Me, ready to go at supermarket during the #COV...  Extremely Negative  "
      ]
     },
     "execution_count": 4,
     "metadata": {},
     "output_type": "execute_result"
    }
   ],
   "source": [
    "df_train = pd.read_csv('/kaggle/input/covid-19-nlp-text-classification/Corona_NLP_train.csv' ,encoding='latin-1')\n",
    "df_test = pd.read_csv('/kaggle/input/covid-19-nlp-text-classification/Corona_NLP_train.csv' ,encoding='latin-1')\n",
    "\n",
    "df_train.head()"
   ]
  },
  {
   "cell_type": "code",
   "execution_count": 5,
   "id": "5b538b21",
   "metadata": {
    "execution": {
     "iopub.execute_input": "2024-03-12T07:50:53.401786Z",
     "iopub.status.busy": "2024-03-12T07:50:53.401377Z",
     "iopub.status.idle": "2024-03-12T07:50:53.407612Z",
     "shell.execute_reply": "2024-03-12T07:50:53.406346Z"
    },
    "papermill": {
     "duration": 0.013884,
     "end_time": "2024-03-12T07:50:53.410187",
     "exception": false,
     "start_time": "2024-03-12T07:50:53.396303",
     "status": "completed"
    },
    "tags": []
   },
   "outputs": [],
   "source": [
    "def main():\n",
    "#     csv_file = \"/kaggle/input/covid-19-nlp-text-classification/Corona_NLP_train.csv\"\n",
    "    train_data = df_train\n",
    "\n",
    "    stemmed_texts = [tokenize_and_stem(text) for text in train_data]\n",
    "\n",
    "\n",
    "    for i in range(5):\n",
    "        print(f\"Stemmed Tokens {i+1}: {stemmed_texts[i]}\")"
   ]
  },
  {
   "cell_type": "code",
   "execution_count": 6,
   "id": "ab5713c6",
   "metadata": {
    "execution": {
     "iopub.execute_input": "2024-03-12T07:50:53.419488Z",
     "iopub.status.busy": "2024-03-12T07:50:53.419105Z",
     "iopub.status.idle": "2024-03-12T07:50:53.439776Z",
     "shell.execute_reply": "2024-03-12T07:50:53.438450Z"
    },
    "papermill": {
     "duration": 0.028114,
     "end_time": "2024-03-12T07:50:53.442165",
     "exception": false,
     "start_time": "2024-03-12T07:50:53.414051",
     "status": "completed"
    },
    "tags": []
   },
   "outputs": [
    {
     "name": "stdout",
     "output_type": "stream",
     "text": [
      "Stemmed Tokens 1: ['usernam']\n",
      "Stemmed Tokens 2: ['screennam']\n",
      "Stemmed Tokens 3: ['locat']\n",
      "Stemmed Tokens 4: ['tweetat']\n",
      "Stemmed Tokens 5: ['originaltweet']\n"
     ]
    }
   ],
   "source": [
    "main()"
   ]
  },
  {
   "cell_type": "code",
   "execution_count": null,
   "id": "3ccc2aab",
   "metadata": {
    "papermill": {
     "duration": 0.003554,
     "end_time": "2024-03-12T07:50:53.449592",
     "exception": false,
     "start_time": "2024-03-12T07:50:53.446038",
     "status": "completed"
    },
    "tags": []
   },
   "outputs": [],
   "source": []
  }
 ],
 "metadata": {
  "kaggle": {
   "accelerator": "none",
   "dataSources": [
    {
     "datasetId": 863934,
     "sourceId": 1472453,
     "sourceType": "datasetVersion"
    }
   ],
   "dockerImageVersionId": 30664,
   "isGpuEnabled": false,
   "isInternetEnabled": false,
   "language": "python",
   "sourceType": "notebook"
  },
  "kernelspec": {
   "display_name": "Python 3",
   "language": "python",
   "name": "python3"
  },
  "language_info": {
   "codemirror_mode": {
    "name": "ipython",
    "version": 3
   },
   "file_extension": ".py",
   "mimetype": "text/x-python",
   "name": "python",
   "nbconvert_exporter": "python",
   "pygments_lexer": "ipython3",
   "version": "3.10.13"
  },
  "papermill": {
   "default_parameters": {},
   "duration": 7.19483,
   "end_time": "2024-03-12T07:50:54.074394",
   "environment_variables": {},
   "exception": null,
   "input_path": "__notebook__.ipynb",
   "output_path": "__notebook__.ipynb",
   "parameters": {},
   "start_time": "2024-03-12T07:50:46.879564",
   "version": "2.5.0"
  }
 },
 "nbformat": 4,
 "nbformat_minor": 5
}
